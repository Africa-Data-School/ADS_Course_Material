{
 "cells": [
  {
   "cell_type": "code",
   "execution_count": 1,
   "metadata": {
    "colab": {
     "base_uri": "https://localhost:8080/",
     "height": 0
    },
    "colab_type": "code",
    "executionInfo": {
     "elapsed": 857,
     "status": "error",
     "timestamp": 1565272963199,
     "user": {
      "displayName": "Africadata school",
      "photoUrl": "",
      "userId": "04916959694654456425"
     },
     "user_tz": -180
    },
    "id": "3PxNr3Ukh2xc",
    "outputId": "58dca801-b73a-4493-9980-5bf4abb24192"
   },
   "outputs": [],
   "source": [
    "#https://www.kaggle.com/c/new-york-city-taxi-fare-prediction"
   ]
  },
  {
   "cell_type": "code",
   "execution_count": 2,
   "metadata": {
    "colab": {},
    "colab_type": "code",
    "id": "RjTCDPUkh2xX"
   },
   "outputs": [],
   "source": [
    "#import necessary libraries\n",
    "import numpy as np \n",
    "import pandas as pd\n",
    "import plotly\n",
    "import plotly.plotly as py\n",
    "import plotly.offline as offline\n",
    "import plotly.graph_objs as go"
   ]
  },
  {
   "cell_type": "code",
   "execution_count": 3,
   "metadata": {},
   "outputs": [],
   "source": [
    "plotly.tools.set_credentials_file(username='akurgat', api_key='Jud1SQj1lbS6w5pznJgt')"
   ]
  },
  {
   "cell_type": "markdown",
   "metadata": {
    "colab_type": "text",
    "id": "JNmRKKcjiQ7Q"
   },
   "source": []
  },
  {
   "cell_type": "code",
   "execution_count": 4,
   "metadata": {
    "colab": {},
    "colab_type": "code",
    "id": "vMTc9XFth2xh"
   },
   "outputs": [
    {
     "data": {
      "text/html": [
       "<div>\n",
       "<style scoped>\n",
       "    .dataframe tbody tr th:only-of-type {\n",
       "        vertical-align: middle;\n",
       "    }\n",
       "\n",
       "    .dataframe tbody tr th {\n",
       "        vertical-align: top;\n",
       "    }\n",
       "\n",
       "    .dataframe thead th {\n",
       "        text-align: right;\n",
       "    }\n",
       "</style>\n",
       "<table border=\"1\" class=\"dataframe\">\n",
       "  <thead>\n",
       "    <tr style=\"text-align: right;\">\n",
       "      <th></th>\n",
       "      <th>city</th>\n",
       "      <th>lat</th>\n",
       "      <th>lng</th>\n",
       "      <th>country</th>\n",
       "      <th>iso2</th>\n",
       "      <th>admin</th>\n",
       "      <th>capital</th>\n",
       "      <th>population</th>\n",
       "      <th>population_proper</th>\n",
       "    </tr>\n",
       "  </thead>\n",
       "  <tbody>\n",
       "    <tr>\n",
       "      <th>0</th>\n",
       "      <td>Auckland</td>\n",
       "      <td>-36.866667</td>\n",
       "      <td>174.766667</td>\n",
       "      <td>New Zealand</td>\n",
       "      <td>NZ</td>\n",
       "      <td>NaN</td>\n",
       "      <td>NaN</td>\n",
       "      <td>1377200</td>\n",
       "      <td>395982</td>\n",
       "    </tr>\n",
       "    <tr>\n",
       "      <th>1</th>\n",
       "      <td>Wellington</td>\n",
       "      <td>-41.300000</td>\n",
       "      <td>174.783333</td>\n",
       "      <td>New Zealand</td>\n",
       "      <td>NZ</td>\n",
       "      <td>NaN</td>\n",
       "      <td>primary</td>\n",
       "      <td>393400</td>\n",
       "      <td>393400</td>\n",
       "    </tr>\n",
       "    <tr>\n",
       "      <th>2</th>\n",
       "      <td>Christchurch City</td>\n",
       "      <td>-43.533333</td>\n",
       "      <td>172.633333</td>\n",
       "      <td>New Zealand</td>\n",
       "      <td>NZ</td>\n",
       "      <td>Canterbury</td>\n",
       "      <td>NaN</td>\n",
       "      <td>363200</td>\n",
       "      <td>363200</td>\n",
       "    </tr>\n",
       "    <tr>\n",
       "      <th>3</th>\n",
       "      <td>Waitakere</td>\n",
       "      <td>-36.850000</td>\n",
       "      <td>174.550000</td>\n",
       "      <td>New Zealand</td>\n",
       "      <td>NZ</td>\n",
       "      <td>NaN</td>\n",
       "      <td>NaN</td>\n",
       "      <td>208100</td>\n",
       "      <td>208100</td>\n",
       "    </tr>\n",
       "    <tr>\n",
       "      <th>4</th>\n",
       "      <td>Northcote</td>\n",
       "      <td>-36.815278</td>\n",
       "      <td>174.745833</td>\n",
       "      <td>New Zealand</td>\n",
       "      <td>NZ</td>\n",
       "      <td>NaN</td>\n",
       "      <td>NaN</td>\n",
       "      <td>205605</td>\n",
       "      <td>205605</td>\n",
       "    </tr>\n",
       "  </tbody>\n",
       "</table>\n",
       "</div>"
      ],
      "text/plain": [
       "                city        lat         lng      country iso2       admin  \\\n",
       "0           Auckland -36.866667  174.766667  New Zealand   NZ         NaN   \n",
       "1         Wellington -41.300000  174.783333  New Zealand   NZ         NaN   \n",
       "2  Christchurch City -43.533333  172.633333  New Zealand   NZ  Canterbury   \n",
       "3          Waitakere -36.850000  174.550000  New Zealand   NZ         NaN   \n",
       "4          Northcote -36.815278  174.745833  New Zealand   NZ         NaN   \n",
       "\n",
       "   capital  population  population_proper  \n",
       "0      NaN     1377200             395982  \n",
       "1  primary      393400             393400  \n",
       "2      NaN      363200             363200  \n",
       "3      NaN      208100             208100  \n",
       "4      NaN      205605             205605  "
      ]
     },
     "execution_count": 4,
     "metadata": {},
     "output_type": "execute_result"
    }
   ],
   "source": [
    "df = pd.read_excel('nz.xlsx')\n",
    "df.head()\n"
   ]
  },
  {
   "cell_type": "code",
   "execution_count": 5,
   "metadata": {},
   "outputs": [
    {
     "name": "stdout",
     "output_type": "stream",
     "text": [
      "<class 'pandas.core.frame.DataFrame'>\n",
      "RangeIndex: 36 entries, 0 to 35\n",
      "Data columns (total 9 columns):\n",
      "city                 36 non-null object\n",
      "lat                  36 non-null float64\n",
      "lng                  36 non-null float64\n",
      "country              36 non-null object\n",
      "iso2                 36 non-null object\n",
      "admin                10 non-null object\n",
      "capital              1 non-null object\n",
      "population           36 non-null int64\n",
      "population_proper    36 non-null int64\n",
      "dtypes: float64(2), int64(2), object(5)\n",
      "memory usage: 2.6+ KB\n"
     ]
    }
   ],
   "source": [
    "df.info()"
   ]
  },
  {
   "cell_type": "code",
   "execution_count": 6,
   "metadata": {},
   "outputs": [
    {
     "data": {
      "text/html": [
       "<div>\n",
       "<style scoped>\n",
       "    .dataframe tbody tr th:only-of-type {\n",
       "        vertical-align: middle;\n",
       "    }\n",
       "\n",
       "    .dataframe tbody tr th {\n",
       "        vertical-align: top;\n",
       "    }\n",
       "\n",
       "    .dataframe thead th {\n",
       "        text-align: right;\n",
       "    }\n",
       "</style>\n",
       "<table border=\"1\" class=\"dataframe\">\n",
       "  <thead>\n",
       "    <tr style=\"text-align: right;\">\n",
       "      <th></th>\n",
       "      <th>lat</th>\n",
       "      <th>lng</th>\n",
       "      <th>population</th>\n",
       "      <th>population_proper</th>\n",
       "    </tr>\n",
       "  </thead>\n",
       "  <tbody>\n",
       "    <tr>\n",
       "      <th>count</th>\n",
       "      <td>36.000000</td>\n",
       "      <td>36.000000</td>\n",
       "      <td>3.600000e+01</td>\n",
       "      <td>36.000000</td>\n",
       "    </tr>\n",
       "    <tr>\n",
       "      <th>mean</th>\n",
       "      <td>-40.488022</td>\n",
       "      <td>164.250851</td>\n",
       "      <td>1.026823e+05</td>\n",
       "      <td>75426.277778</td>\n",
       "    </tr>\n",
       "    <tr>\n",
       "      <th>std</th>\n",
       "      <td>2.872492</td>\n",
       "      <td>58.470881</td>\n",
       "      <td>2.378178e+05</td>\n",
       "      <td>108810.504773</td>\n",
       "    </tr>\n",
       "    <tr>\n",
       "      <th>min</th>\n",
       "      <td>-46.428681</td>\n",
       "      <td>-176.533333</td>\n",
       "      <td>3.000000e+02</td>\n",
       "      <td>300.000000</td>\n",
       "    </tr>\n",
       "    <tr>\n",
       "      <th>25%</th>\n",
       "      <td>-42.412778</td>\n",
       "      <td>172.370850</td>\n",
       "      <td>9.264000e+03</td>\n",
       "      <td>9264.000000</td>\n",
       "    </tr>\n",
       "    <tr>\n",
       "      <th>50%</th>\n",
       "      <td>-40.491667</td>\n",
       "      <td>174.775000</td>\n",
       "      <td>2.675000e+04</td>\n",
       "      <td>26750.000000</td>\n",
       "    </tr>\n",
       "    <tr>\n",
       "      <th>75%</th>\n",
       "      <td>-38.170833</td>\n",
       "      <td>175.554167</td>\n",
       "      <td>8.740000e+04</td>\n",
       "      <td>87400.000000</td>\n",
       "    </tr>\n",
       "    <tr>\n",
       "      <th>max</th>\n",
       "      <td>-35.216667</td>\n",
       "      <td>178.004167</td>\n",
       "      <td>1.377200e+06</td>\n",
       "      <td>395982.000000</td>\n",
       "    </tr>\n",
       "  </tbody>\n",
       "</table>\n",
       "</div>"
      ],
      "text/plain": [
       "             lat         lng    population  population_proper\n",
       "count  36.000000   36.000000  3.600000e+01          36.000000\n",
       "mean  -40.488022  164.250851  1.026823e+05       75426.277778\n",
       "std     2.872492   58.470881  2.378178e+05      108810.504773\n",
       "min   -46.428681 -176.533333  3.000000e+02         300.000000\n",
       "25%   -42.412778  172.370850  9.264000e+03        9264.000000\n",
       "50%   -40.491667  174.775000  2.675000e+04       26750.000000\n",
       "75%   -38.170833  175.554167  8.740000e+04       87400.000000\n",
       "max   -35.216667  178.004167  1.377200e+06      395982.000000"
      ]
     },
     "execution_count": 6,
     "metadata": {},
     "output_type": "execute_result"
    }
   ],
   "source": [
    "df.describe()"
   ]
  },
  {
   "cell_type": "code",
   "execution_count": 7,
   "metadata": {
    "colab": {},
    "colab_type": "code",
    "id": "vDGYpn8Dh2xk",
    "outputId": "6002cd41-48b9-4816-dce5-04d56403319f"
   },
   "outputs": [
    {
     "data": {
      "text/plain": [
       "[52500,\n",
       " 6756,\n",
       " 18700,\n",
       " 19550,\n",
       " 121500,\n",
       " 43200,\n",
       " 3240,\n",
       " 22600,\n",
       " 27200,\n",
       " 1857,\n",
       " 57800,\n",
       " 3078,\n",
       " 20200,\n",
       " 117700,\n",
       " 3900,\n",
       " 102400,\n",
       " 82400,\n",
       " 208100,\n",
       " 5856,\n",
       " 1377200,\n",
       " 34300,\n",
       " 393400,\n",
       " 49200,\n",
       " 10100,\n",
       " 26300,\n",
       " 60800,\n",
       " 25263,\n",
       " 205605,\n",
       " 5037,\n",
       " 300,\n",
       " 2172,\n",
       " 148200,\n",
       " 11100,\n",
       " 13350,\n",
       " 363200]"
      ]
     },
     "execution_count": 7,
     "metadata": {},
     "output_type": "execute_result"
    }
   ],
   "source": [
    "population = list(df['population'].value_counts().index)\n",
    "population"
   ]
  },
  {
   "cell_type": "code",
   "execution_count": 8,
   "metadata": {
    "colab": {},
    "colab_type": "code",
    "id": "JgSLZqbMh2xo"
   },
   "outputs": [],
   "source": [
    "data = []\n",
    "for persons in population:\n",
    "    population_data = dict(\n",
    "            lat = df.loc[df['population'] == persons,'lat'],\n",
    "            lon = df.loc[df['population'] == persons,'lng'],\n",
    "            name = persons,\n",
    "            marker = dict(size = 8, opacity = 0.5),\n",
    "            type = 'scattermapbox'\n",
    "        )\n",
    "    data.append(population_data)\n",
    "\n",
    "mapbox_access_token = 'pk.eyJ1IjoiYWt1cmdhdCIsImEiOiJjanoyc3ByZWwwMGJ2M2NzNGM1dTlocGZzIn0.Ic2lo-f1OxZ1dqBxCATgzg'\n",
    "\n",
    "layout = dict(\n",
    "    height = 800,\n",
    "    margin = dict(t=0, b=0, l=0, r=0),\n",
    "    font = dict(color='#FFFFFF', size=11),\n",
    "    paper_bgcolor = '#000000',\n",
    "    mapbox=dict(\n",
    "        accesstoken=mapbox_access_token,\n",
    "        bearing=0,\n",
    "        center=dict(\n",
    "            lat=38,\n",
    "            lon=-94\n",
    "        ),\n",
    "        pitch=0,\n",
    "        zoom=3,\n",
    "        style='light'\n",
    "    ),\n",
    ")\n",
    "\n",
    "\n",
    "\n",
    "\n",
    "layout['title'] = 'Population Density'\n"
   ]
  },
  {
   "cell_type": "code",
   "execution_count": 9,
   "metadata": {
    "colab": {},
    "colab_type": "code",
    "id": "9Pz4wkezh2xq",
    "outputId": "249db5f7-ca7f-4592-8a33-e36b3a9a58b1"
   },
   "outputs": [
    {
     "name": "stderr",
     "output_type": "stream",
     "text": [
      "c:\\program files\\python37\\lib\\site-packages\\IPython\\core\\display.py:694: UserWarning:\n",
      "\n",
      "Consider using IPython.display.IFrame instead\n",
      "\n"
     ]
    },
    {
     "data": {
      "text/html": [
       "<iframe id=\"igraph\" scrolling=\"no\" style=\"border:none;\" seamless=\"seamless\" src=\"https://plot.ly/~akurgat/15.embed\" height=\"800px\" width=\"100%\"></iframe>"
      ],
      "text/plain": [
       "<chart_studio.tools.PlotlyDisplay object>"
      ]
     },
     "execution_count": 9,
     "metadata": {},
     "output_type": "execute_result"
    }
   ],
   "source": [
    "figure = dict(data=data, layout=layout)\n",
    "py.iplot(figure, filename=\"New Zealand's Population\")"
   ]
  },
  {
   "cell_type": "code",
   "execution_count": null,
   "metadata": {},
   "outputs": [],
   "source": []
  }
 ],
 "metadata": {
  "colab": {
   "name": "Mapbox1.ipynb",
   "provenance": [],
   "version": "0.3.2"
  },
  "kernelspec": {
   "display_name": "Python 3",
   "language": "python",
   "name": "python3"
  },
  "language_info": {
   "codemirror_mode": {
    "name": "ipython",
    "version": 3
   },
   "file_extension": ".py",
   "mimetype": "text/x-python",
   "name": "python",
   "nbconvert_exporter": "python",
   "pygments_lexer": "ipython3",
   "version": "3.7.4"
  }
 },
 "nbformat": 4,
 "nbformat_minor": 1
}

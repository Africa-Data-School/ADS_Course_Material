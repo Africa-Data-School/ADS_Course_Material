{
 "cells": [
  {
   "cell_type": "code",
   "execution_count": 1,
   "metadata": {
    "colab": {
     "base_uri": "https://localhost:8080/",
     "height": 0
    },
    "colab_type": "code",
    "executionInfo": {
     "elapsed": 857,
     "status": "error",
     "timestamp": 1565272963199,
     "user": {
      "displayName": "Africadata school",
      "photoUrl": "",
      "userId": "04916959694654456425"
     },
     "user_tz": -180
    },
    "id": "3PxNr3Ukh2xc",
    "outputId": "58dca801-b73a-4493-9980-5bf4abb24192"
   },
   "outputs": [],
   "source": [
    "#https://www.kaggle.com/c/new-york-city-taxi-fare-prediction"
   ]
  },
  {
   "cell_type": "code",
   "execution_count": 2,
   "metadata": {
    "colab": {},
    "colab_type": "code",
    "id": "RjTCDPUkh2xX"
   },
   "outputs": [],
   "source": [
    "#import necessary libraries\n",
    "import numpy as np \n",
    "import pandas as pd\n",
    "import plotly\n",
    "import plotly.plotly as py\n",
    "import plotly.offline as offline\n",
    "import plotly.graph_objs as go"
   ]
  },
  {
   "cell_type": "code",
   "execution_count": 3,
   "metadata": {},
   "outputs": [],
   "source": [
    "plotly.tools.set_credentials_file(username='akurgat', api_key='Jud1SQj1lbS6w5pznJgt')"
   ]
  },
  {
   "cell_type": "markdown",
   "metadata": {
    "colab_type": "text",
    "id": "JNmRKKcjiQ7Q"
   },
   "source": []
  },
  {
   "cell_type": "code",
   "execution_count": 4,
   "metadata": {
    "colab": {},
    "colab_type": "code",
    "id": "vMTc9XFth2xh"
   },
   "outputs": [
    {
     "data": {
      "text/html": [
       "<div>\n",
       "<style scoped>\n",
       "    .dataframe tbody tr th:only-of-type {\n",
       "        vertical-align: middle;\n",
       "    }\n",
       "\n",
       "    .dataframe tbody tr th {\n",
       "        vertical-align: top;\n",
       "    }\n",
       "\n",
       "    .dataframe thead th {\n",
       "        text-align: right;\n",
       "    }\n",
       "</style>\n",
       "<table border=\"1\" class=\"dataframe\">\n",
       "  <thead>\n",
       "    <tr style=\"text-align: right;\">\n",
       "      <th></th>\n",
       "      <th>city</th>\n",
       "      <th>lat</th>\n",
       "      <th>lng</th>\n",
       "      <th>country</th>\n",
       "      <th>iso2</th>\n",
       "      <th>admin</th>\n",
       "      <th>capital</th>\n",
       "      <th>population</th>\n",
       "      <th>population_proper</th>\n",
       "    </tr>\n",
       "  </thead>\n",
       "  <tbody>\n",
       "    <tr>\n",
       "      <th>0</th>\n",
       "      <td>Berlin</td>\n",
       "      <td>52.516667</td>\n",
       "      <td>13.400000</td>\n",
       "      <td>Germany</td>\n",
       "      <td>DE</td>\n",
       "      <td>Berlin</td>\n",
       "      <td>primary</td>\n",
       "      <td>3406000.0</td>\n",
       "      <td>3094014.0</td>\n",
       "    </tr>\n",
       "    <tr>\n",
       "      <th>1</th>\n",
       "      <td>Stuttgart</td>\n",
       "      <td>48.782343</td>\n",
       "      <td>9.180819</td>\n",
       "      <td>Germany</td>\n",
       "      <td>DE</td>\n",
       "      <td>Baden-Württemberg</td>\n",
       "      <td>admin</td>\n",
       "      <td>2944700.0</td>\n",
       "      <td>606588.0</td>\n",
       "    </tr>\n",
       "    <tr>\n",
       "      <th>2</th>\n",
       "      <td>Frankfurt</td>\n",
       "      <td>50.115520</td>\n",
       "      <td>8.684167</td>\n",
       "      <td>Germany</td>\n",
       "      <td>DE</td>\n",
       "      <td>Hesse</td>\n",
       "      <td>minor</td>\n",
       "      <td>2895000.0</td>\n",
       "      <td>679664.0</td>\n",
       "    </tr>\n",
       "    <tr>\n",
       "      <th>3</th>\n",
       "      <td>Mannheim</td>\n",
       "      <td>49.496706</td>\n",
       "      <td>8.479547</td>\n",
       "      <td>Germany</td>\n",
       "      <td>DE</td>\n",
       "      <td>Baden-Württemberg</td>\n",
       "      <td>minor</td>\n",
       "      <td>2362000.0</td>\n",
       "      <td>313174.0</td>\n",
       "    </tr>\n",
       "    <tr>\n",
       "      <th>4</th>\n",
       "      <td>Hamburg</td>\n",
       "      <td>53.575323</td>\n",
       "      <td>10.015340</td>\n",
       "      <td>Germany</td>\n",
       "      <td>DE</td>\n",
       "      <td>Hamburg</td>\n",
       "      <td>admin</td>\n",
       "      <td>1757000.0</td>\n",
       "      <td>1739117.0</td>\n",
       "    </tr>\n",
       "  </tbody>\n",
       "</table>\n",
       "</div>"
      ],
      "text/plain": [
       "        city        lat        lng  country iso2              admin  capital  \\\n",
       "0     Berlin  52.516667  13.400000  Germany   DE             Berlin  primary   \n",
       "1  Stuttgart  48.782343   9.180819  Germany   DE  Baden-Württemberg    admin   \n",
       "2  Frankfurt  50.115520   8.684167  Germany   DE              Hesse    minor   \n",
       "3   Mannheim  49.496706   8.479547  Germany   DE  Baden-Württemberg    minor   \n",
       "4    Hamburg  53.575323  10.015340  Germany   DE            Hamburg    admin   \n",
       "\n",
       "   population  population_proper  \n",
       "0   3406000.0          3094014.0  \n",
       "1   2944700.0           606588.0  \n",
       "2   2895000.0           679664.0  \n",
       "3   2362000.0           313174.0  \n",
       "4   1757000.0          1739117.0  "
      ]
     },
     "execution_count": 4,
     "metadata": {},
     "output_type": "execute_result"
    }
   ],
   "source": [
    "df = pd.read_excel('de.xlsx')\n",
    "df.head()\n"
   ]
  },
  {
   "cell_type": "code",
   "execution_count": 5,
   "metadata": {},
   "outputs": [
    {
     "name": "stdout",
     "output_type": "stream",
     "text": [
      "<class 'pandas.core.frame.DataFrame'>\n",
      "RangeIndex: 365 entries, 0 to 364\n",
      "Data columns (total 9 columns):\n",
      "city                 365 non-null object\n",
      "lat                  365 non-null float64\n",
      "lng                  365 non-null float64\n",
      "country              365 non-null object\n",
      "iso2                 365 non-null object\n",
      "admin                365 non-null object\n",
      "capital              359 non-null object\n",
      "population           57 non-null float64\n",
      "population_proper    57 non-null float64\n",
      "dtypes: float64(4), object(5)\n",
      "memory usage: 25.7+ KB\n"
     ]
    }
   ],
   "source": [
    "df.info()"
   ]
  },
  {
   "cell_type": "code",
   "execution_count": 6,
   "metadata": {},
   "outputs": [
    {
     "data": {
      "text/html": [
       "<div>\n",
       "<style scoped>\n",
       "    .dataframe tbody tr th:only-of-type {\n",
       "        vertical-align: middle;\n",
       "    }\n",
       "\n",
       "    .dataframe tbody tr th {\n",
       "        vertical-align: top;\n",
       "    }\n",
       "\n",
       "    .dataframe thead th {\n",
       "        text-align: right;\n",
       "    }\n",
       "</style>\n",
       "<table border=\"1\" class=\"dataframe\">\n",
       "  <thead>\n",
       "    <tr style=\"text-align: right;\">\n",
       "      <th></th>\n",
       "      <th>lat</th>\n",
       "      <th>lng</th>\n",
       "      <th>population</th>\n",
       "      <th>population_proper</th>\n",
       "    </tr>\n",
       "  </thead>\n",
       "  <tbody>\n",
       "    <tr>\n",
       "      <th>count</th>\n",
       "      <td>365.000000</td>\n",
       "      <td>365.000000</td>\n",
       "      <td>5.700000e+01</td>\n",
       "      <td>5.700000e+01</td>\n",
       "    </tr>\n",
       "    <tr>\n",
       "      <th>mean</th>\n",
       "      <td>50.737965</td>\n",
       "      <td>9.866521</td>\n",
       "      <td>5.942323e+05</td>\n",
       "      <td>3.531684e+05</td>\n",
       "    </tr>\n",
       "    <tr>\n",
       "      <th>std</th>\n",
       "      <td>1.738199</td>\n",
       "      <td>2.056172</td>\n",
       "      <td>7.604153e+05</td>\n",
       "      <td>4.789344e+05</td>\n",
       "    </tr>\n",
       "    <tr>\n",
       "      <th>min</th>\n",
       "      <td>47.498475</td>\n",
       "      <td>6.084726</td>\n",
       "      <td>5.152600e+04</td>\n",
       "      <td>4.190100e+04</td>\n",
       "    </tr>\n",
       "    <tr>\n",
       "      <th>25%</th>\n",
       "      <td>49.353573</td>\n",
       "      <td>8.172358</td>\n",
       "      <td>1.643590e+05</td>\n",
       "      <td>1.204510e+05</td>\n",
       "    </tr>\n",
       "    <tr>\n",
       "      <th>50%</th>\n",
       "      <td>50.804337</td>\n",
       "      <td>9.786893</td>\n",
       "      <td>2.694270e+05</td>\n",
       "      <td>2.122070e+05</td>\n",
       "    </tr>\n",
       "    <tr>\n",
       "      <th>75%</th>\n",
       "      <td>51.938144</td>\n",
       "      <td>11.413255</td>\n",
       "      <td>7.224900e+05</td>\n",
       "      <td>4.868540e+05</td>\n",
       "    </tr>\n",
       "    <tr>\n",
       "      <th>max</th>\n",
       "      <td>54.784310</td>\n",
       "      <td>15.000000</td>\n",
       "      <td>3.406000e+06</td>\n",
       "      <td>3.094014e+06</td>\n",
       "    </tr>\n",
       "  </tbody>\n",
       "</table>\n",
       "</div>"
      ],
      "text/plain": [
       "              lat         lng    population  population_proper\n",
       "count  365.000000  365.000000  5.700000e+01       5.700000e+01\n",
       "mean    50.737965    9.866521  5.942323e+05       3.531684e+05\n",
       "std      1.738199    2.056172  7.604153e+05       4.789344e+05\n",
       "min     47.498475    6.084726  5.152600e+04       4.190100e+04\n",
       "25%     49.353573    8.172358  1.643590e+05       1.204510e+05\n",
       "50%     50.804337    9.786893  2.694270e+05       2.122070e+05\n",
       "75%     51.938144   11.413255  7.224900e+05       4.868540e+05\n",
       "max     54.784310   15.000000  3.406000e+06       3.094014e+06"
      ]
     },
     "execution_count": 6,
     "metadata": {},
     "output_type": "execute_result"
    }
   ],
   "source": [
    "df.describe()"
   ]
  },
  {
   "cell_type": "code",
   "execution_count": 7,
   "metadata": {
    "colab": {},
    "colab_type": "code",
    "id": "vDGYpn8Dh2xk",
    "outputId": "6002cd41-48b9-4816-dce5-04d56403319f"
   },
   "outputs": [
    {
     "data": {
      "text/plain": [
       "[235390.0,\n",
       " 1220000.0,\n",
       " 426590.0,\n",
       " 588462.0,\n",
       " 617126.0,\n",
       " 2362000.0,\n",
       " 1742135.0,\n",
       " 358989.0,\n",
       " 104659.0,\n",
       " 184997.0,\n",
       " 167458.0,\n",
       " 312633.0,\n",
       " 172955.0,\n",
       " 302643.0,\n",
       " 51526.0,\n",
       " 680543.0,\n",
       " 137751.0,\n",
       " 97930.0,\n",
       " 237844.0,\n",
       " 92809.0,\n",
       " 104712.0,\n",
       " 1275000.0,\n",
       " 722490.0,\n",
       " 3406000.0,\n",
       " 617515.0,\n",
       " 164359.0,\n",
       " 737304.0,\n",
       " 139419.0,\n",
       " 269427.0,\n",
       " 163325.0,\n",
       " 331906.0,\n",
       " 1004000.0,\n",
       " 61054.0,\n",
       " 203254.0,\n",
       " 770001.0,\n",
       " 168561.0,\n",
       " 56153.0,\n",
       " 218095.0,\n",
       " 82358.0,\n",
       " 2944700.0,\n",
       " 724909.0,\n",
       " 244715.0,\n",
       " 1276757.0,\n",
       " 229826.0,\n",
       " 1757000.0,\n",
       " 254889.0,\n",
       " 231268.0,\n",
       " 270184.0,\n",
       " 61368.0,\n",
       " 105067.0,\n",
       " 776525.0,\n",
       " 542529.0,\n",
       " 2895000.0,\n",
       " 203080.0,\n",
       " 377487.0,\n",
       " 289924.0,\n",
       " 96641.0]"
      ]
     },
     "execution_count": 7,
     "metadata": {},
     "output_type": "execute_result"
    }
   ],
   "source": [
    "population = list(df['population'].value_counts().index)\n",
    "population"
   ]
  },
  {
   "cell_type": "code",
   "execution_count": 8,
   "metadata": {
    "colab": {},
    "colab_type": "code",
    "id": "JgSLZqbMh2xo"
   },
   "outputs": [],
   "source": [
    "data = []\n",
    "for persons in population:\n",
    "    population_data = dict(\n",
    "            lat = df.loc[df['population'] == persons,'lat'],\n",
    "            lon = df.loc[df['population'] == persons,'lng'],\n",
    "            name = persons,\n",
    "            marker = dict(size = 8, opacity = 0.5),\n",
    "            type = 'scattermapbox'\n",
    "        )\n",
    "    data.append(population_data)\n",
    "\n",
    "mapbox_access_token = 'pk.eyJ1IjoiYWt1cmdhdCIsImEiOiJjanoyc3ByZWwwMGJ2M2NzNGM1dTlocGZzIn0.Ic2lo-f1OxZ1dqBxCATgzg'\n",
    "\n",
    "layout = dict(\n",
    "    height = 800,\n",
    "    margin = dict(t=0, b=0, l=0, r=0),\n",
    "    font = dict(color='#FFFFFF', size=11),\n",
    "    paper_bgcolor = '#000000',\n",
    "    mapbox=dict(\n",
    "        accesstoken=mapbox_access_token,\n",
    "        bearing=0,\n",
    "        center=dict(\n",
    "            lat=38,\n",
    "            lon=-94\n",
    "        ),\n",
    "        pitch=0,\n",
    "        zoom=3,\n",
    "        style='light'\n",
    "    ),\n",
    ")\n",
    "\n",
    "\n",
    "\n",
    "\n",
    "layout['title'] = 'Population Density'\n"
   ]
  },
  {
   "cell_type": "code",
   "execution_count": 9,
   "metadata": {
    "colab": {},
    "colab_type": "code",
    "id": "9Pz4wkezh2xq",
    "outputId": "249db5f7-ca7f-4592-8a33-e36b3a9a58b1"
   },
   "outputs": [
    {
     "name": "stderr",
     "output_type": "stream",
     "text": [
      "c:\\program files\\python37\\lib\\site-packages\\IPython\\core\\display.py:694: UserWarning:\n",
      "\n",
      "Consider using IPython.display.IFrame instead\n",
      "\n"
     ]
    },
    {
     "data": {
      "text/html": [
       "<iframe id=\"igraph\" scrolling=\"no\" style=\"border:none;\" seamless=\"seamless\" src=\"https://plot.ly/~akurgat/17.embed\" height=\"800px\" width=\"100%\"></iframe>"
      ],
      "text/plain": [
       "<chart_studio.tools.PlotlyDisplay object>"
      ]
     },
     "execution_count": 9,
     "metadata": {},
     "output_type": "execute_result"
    }
   ],
   "source": [
    "figure = dict(data=data, layout=layout)\n",
    "py.iplot(figure, filename=\"Germany's Population\")"
   ]
  },
  {
   "cell_type": "code",
   "execution_count": null,
   "metadata": {},
   "outputs": [],
   "source": []
  }
 ],
 "metadata": {
  "colab": {
   "name": "Mapbox1.ipynb",
   "provenance": [],
   "version": "0.3.2"
  },
  "kernelspec": {
   "display_name": "Python 3",
   "language": "python",
   "name": "python3"
  },
  "language_info": {
   "codemirror_mode": {
    "name": "ipython",
    "version": 3
   },
   "file_extension": ".py",
   "mimetype": "text/x-python",
   "name": "python",
   "nbconvert_exporter": "python",
   "pygments_lexer": "ipython3",
   "version": "3.7.4"
  }
 },
 "nbformat": 4,
 "nbformat_minor": 1
}

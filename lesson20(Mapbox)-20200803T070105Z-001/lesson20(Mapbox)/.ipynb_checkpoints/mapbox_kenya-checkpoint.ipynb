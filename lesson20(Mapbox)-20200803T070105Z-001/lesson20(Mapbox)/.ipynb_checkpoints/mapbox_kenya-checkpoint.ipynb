{
 "cells": [
  {
   "cell_type": "code",
   "execution_count": 10,
   "metadata": {
    "colab": {
     "base_uri": "https://localhost:8080/",
     "height": 0
    },
    "colab_type": "code",
    "executionInfo": {
     "elapsed": 857,
     "status": "error",
     "timestamp": 1565272963199,
     "user": {
      "displayName": "Africadata school",
      "photoUrl": "",
      "userId": "04916959694654456425"
     },
     "user_tz": -180
    },
    "id": "3PxNr3Ukh2xc",
    "outputId": "58dca801-b73a-4493-9980-5bf4abb24192"
   },
   "outputs": [],
   "source": [
    "#https://www.kaggle.com/c/new-york-city-taxi-fare-prediction"
   ]
  },
  {
   "cell_type": "code",
   "execution_count": 11,
   "metadata": {
    "colab": {},
    "colab_type": "code",
    "id": "RjTCDPUkh2xX"
   },
   "outputs": [],
   "source": [
    "#import necessary libraries\n",
    "import numpy as np \n",
    "import pandas as pd\n",
    "import plotly\n",
    "import plotly.plotly as py\n",
    "import plotly.offline as offline\n",
    "import plotly.graph_objs as go"
   ]
  },
  {
   "cell_type": "code",
   "execution_count": 12,
   "metadata": {},
   "outputs": [],
   "source": [
    "plotly.tools.set_credentials_file(username='akurgat', api_key='Jud1SQj1lbS6w5pznJgt')"
   ]
  },
  {
   "cell_type": "markdown",
   "metadata": {
    "colab_type": "text",
    "id": "JNmRKKcjiQ7Q"
   },
   "source": []
  },
  {
   "cell_type": "code",
   "execution_count": 13,
   "metadata": {
    "colab": {},
    "colab_type": "code",
    "id": "vMTc9XFth2xh"
   },
   "outputs": [
    {
     "data": {
      "text/html": [
       "<div>\n",
       "<style scoped>\n",
       "    .dataframe tbody tr th:only-of-type {\n",
       "        vertical-align: middle;\n",
       "    }\n",
       "\n",
       "    .dataframe tbody tr th {\n",
       "        vertical-align: top;\n",
       "    }\n",
       "\n",
       "    .dataframe thead th {\n",
       "        text-align: right;\n",
       "    }\n",
       "</style>\n",
       "<table border=\"1\" class=\"dataframe\">\n",
       "  <thead>\n",
       "    <tr style=\"text-align: right;\">\n",
       "      <th></th>\n",
       "      <th>city</th>\n",
       "      <th>lat</th>\n",
       "      <th>lng</th>\n",
       "      <th>country</th>\n",
       "      <th>iso2</th>\n",
       "      <th>admin</th>\n",
       "      <th>capital</th>\n",
       "      <th>population</th>\n",
       "      <th>population_proper</th>\n",
       "    </tr>\n",
       "  </thead>\n",
       "  <tbody>\n",
       "    <tr>\n",
       "      <th>0</th>\n",
       "      <td>Nairobi</td>\n",
       "      <td>-1.283333</td>\n",
       "      <td>36.816667</td>\n",
       "      <td>Kenya</td>\n",
       "      <td>KE</td>\n",
       "      <td>Nairobi City</td>\n",
       "      <td>primary</td>\n",
       "      <td>3010000</td>\n",
       "      <td>2750547</td>\n",
       "    </tr>\n",
       "    <tr>\n",
       "      <th>1</th>\n",
       "      <td>Mombasa</td>\n",
       "      <td>-4.054655</td>\n",
       "      <td>39.663588</td>\n",
       "      <td>Kenya</td>\n",
       "      <td>KE</td>\n",
       "      <td>Mombasa</td>\n",
       "      <td>admin</td>\n",
       "      <td>882000</td>\n",
       "      <td>799668</td>\n",
       "    </tr>\n",
       "    <tr>\n",
       "      <th>2</th>\n",
       "      <td>Kisumu</td>\n",
       "      <td>-0.102210</td>\n",
       "      <td>34.761714</td>\n",
       "      <td>Kenya</td>\n",
       "      <td>KE</td>\n",
       "      <td>Kisumu</td>\n",
       "      <td>admin</td>\n",
       "      <td>395615</td>\n",
       "      <td>216479</td>\n",
       "    </tr>\n",
       "    <tr>\n",
       "      <th>3</th>\n",
       "      <td>Nakuru</td>\n",
       "      <td>-0.283333</td>\n",
       "      <td>36.066667</td>\n",
       "      <td>Kenya</td>\n",
       "      <td>KE</td>\n",
       "      <td>Nakuru</td>\n",
       "      <td>admin</td>\n",
       "      <td>364727</td>\n",
       "      <td>259903</td>\n",
       "    </tr>\n",
       "    <tr>\n",
       "      <th>4</th>\n",
       "      <td>Eldoret</td>\n",
       "      <td>0.520356</td>\n",
       "      <td>35.269925</td>\n",
       "      <td>Kenya</td>\n",
       "      <td>KE</td>\n",
       "      <td>Uasin Gishu</td>\n",
       "      <td>NaN</td>\n",
       "      <td>353381</td>\n",
       "      <td>218446</td>\n",
       "    </tr>\n",
       "  </tbody>\n",
       "</table>\n",
       "</div>"
      ],
      "text/plain": [
       "      city       lat        lng country iso2         admin  capital  \\\n",
       "0  Nairobi -1.283333  36.816667   Kenya   KE  Nairobi City  primary   \n",
       "1  Mombasa -4.054655  39.663588   Kenya   KE       Mombasa    admin   \n",
       "2   Kisumu -0.102210  34.761714   Kenya   KE        Kisumu    admin   \n",
       "3   Nakuru -0.283333  36.066667   Kenya   KE        Nakuru    admin   \n",
       "4  Eldoret  0.520356  35.269925   Kenya   KE   Uasin Gishu      NaN   \n",
       "\n",
       "   population  population_proper  \n",
       "0     3010000            2750547  \n",
       "1      882000             799668  \n",
       "2      395615             216479  \n",
       "3      364727             259903  \n",
       "4      353381             218446  "
      ]
     },
     "execution_count": 13,
     "metadata": {},
     "output_type": "execute_result"
    }
   ],
   "source": [
    "df = pd.read_excel('ke.xlsx')\n",
    "df.head()\n"
   ]
  },
  {
   "cell_type": "code",
   "execution_count": 14,
   "metadata": {},
   "outputs": [
    {
     "name": "stdout",
     "output_type": "stream",
     "text": [
      "<class 'pandas.core.frame.DataFrame'>\n",
      "RangeIndex: 36 entries, 0 to 35\n",
      "Data columns (total 9 columns):\n",
      "city                 36 non-null object\n",
      "lat                  36 non-null float64\n",
      "lng                  36 non-null float64\n",
      "country              36 non-null object\n",
      "iso2                 36 non-null object\n",
      "admin                36 non-null object\n",
      "capital              8 non-null object\n",
      "population           36 non-null int64\n",
      "population_proper    36 non-null int64\n",
      "dtypes: float64(2), int64(2), object(5)\n",
      "memory usage: 2.6+ KB\n"
     ]
    }
   ],
   "source": [
    "df.info()"
   ]
  },
  {
   "cell_type": "code",
   "execution_count": 15,
   "metadata": {},
   "outputs": [
    {
     "data": {
      "text/html": [
       "<div>\n",
       "<style scoped>\n",
       "    .dataframe tbody tr th:only-of-type {\n",
       "        vertical-align: middle;\n",
       "    }\n",
       "\n",
       "    .dataframe tbody tr th {\n",
       "        vertical-align: top;\n",
       "    }\n",
       "\n",
       "    .dataframe thead th {\n",
       "        text-align: right;\n",
       "    }\n",
       "</style>\n",
       "<table border=\"1\" class=\"dataframe\">\n",
       "  <thead>\n",
       "    <tr style=\"text-align: right;\">\n",
       "      <th></th>\n",
       "      <th>lat</th>\n",
       "      <th>lng</th>\n",
       "      <th>population</th>\n",
       "      <th>population_proper</th>\n",
       "    </tr>\n",
       "  </thead>\n",
       "  <tbody>\n",
       "    <tr>\n",
       "      <th>count</th>\n",
       "      <td>36.000000</td>\n",
       "      <td>36.000000</td>\n",
       "      <td>3.600000e+01</td>\n",
       "      <td>3.600000e+01</td>\n",
       "    </tr>\n",
       "    <tr>\n",
       "      <th>mean</th>\n",
       "      <td>-0.615214</td>\n",
       "      <td>37.107520</td>\n",
       "      <td>1.813990e+05</td>\n",
       "      <td>1.461391e+05</td>\n",
       "    </tr>\n",
       "    <tr>\n",
       "      <th>std</th>\n",
       "      <td>1.770873</td>\n",
       "      <td>1.945835</td>\n",
       "      <td>5.124263e+05</td>\n",
       "      <td>4.676011e+05</td>\n",
       "    </tr>\n",
       "    <tr>\n",
       "      <th>min</th>\n",
       "      <td>-4.054655</td>\n",
       "      <td>34.154788</td>\n",
       "      <td>4.140000e+02</td>\n",
       "      <td>4.140000e+02</td>\n",
       "    </tr>\n",
       "    <tr>\n",
       "      <th>25%</th>\n",
       "      <td>-1.573151</td>\n",
       "      <td>35.279834</td>\n",
       "      <td>2.068550e+04</td>\n",
       "      <td>1.360100e+04</td>\n",
       "    </tr>\n",
       "    <tr>\n",
       "      <th>50%</th>\n",
       "      <td>-0.492332</td>\n",
       "      <td>37.010212</td>\n",
       "      <td>4.915500e+04</td>\n",
       "      <td>3.481550e+04</td>\n",
       "    </tr>\n",
       "    <tr>\n",
       "      <th>75%</th>\n",
       "      <td>0.109738</td>\n",
       "      <td>38.487166</td>\n",
       "      <td>9.522500e+04</td>\n",
       "      <td>6.510225e+04</td>\n",
       "    </tr>\n",
       "    <tr>\n",
       "      <th>max</th>\n",
       "      <td>3.516700</td>\n",
       "      <td>40.899148</td>\n",
       "      <td>3.010000e+06</td>\n",
       "      <td>2.750547e+06</td>\n",
       "    </tr>\n",
       "  </tbody>\n",
       "</table>\n",
       "</div>"
      ],
      "text/plain": [
       "             lat        lng    population  population_proper\n",
       "count  36.000000  36.000000  3.600000e+01       3.600000e+01\n",
       "mean   -0.615214  37.107520  1.813990e+05       1.461391e+05\n",
       "std     1.770873   1.945835  5.124263e+05       4.676011e+05\n",
       "min    -4.054655  34.154788  4.140000e+02       4.140000e+02\n",
       "25%    -1.573151  35.279834  2.068550e+04       1.360100e+04\n",
       "50%    -0.492332  37.010212  4.915500e+04       3.481550e+04\n",
       "75%     0.109738  38.487166  9.522500e+04       6.510225e+04\n",
       "max     3.516700  40.899148  3.010000e+06       2.750547e+06"
      ]
     },
     "execution_count": 15,
     "metadata": {},
     "output_type": "execute_result"
    }
   ],
   "source": [
    "df.describe()"
   ]
  },
  {
   "cell_type": "code",
   "execution_count": 16,
   "metadata": {
    "colab": {},
    "colab_type": "code",
    "id": "vDGYpn8Dh2xk",
    "outputId": "6002cd41-48b9-4816-dce5-04d56403319f"
   },
   "outputs": [
    {
     "data": {
      "text/plain": [
       "[58620,\n",
       " 882000,\n",
       " 67861,\n",
       " 2004,\n",
       " 80339,\n",
       " 3010000,\n",
       " 43983,\n",
       " 24525,\n",
       " 51084,\n",
       " 45771,\n",
       " 20219,\n",
       " 2376,\n",
       " 36487,\n",
       " 24837,\n",
       " 5380,\n",
       " 28547,\n",
       " 63426,\n",
       " 47226,\n",
       " 55962,\n",
       " 144925,\n",
       " 36142,\n",
       " 99322,\n",
       " 364727,\n",
       " 11219,\n",
       " 71285,\n",
       " 13193,\n",
       " 91248,\n",
       " 17581,\n",
       " 16460,\n",
       " 20841,\n",
       " 353381,\n",
       " 98852,\n",
       " 150495,\n",
       " 414,\n",
       " 395615,\n",
       " 94016]"
      ]
     },
     "execution_count": 16,
     "metadata": {},
     "output_type": "execute_result"
    }
   ],
   "source": [
    "population = list(df['population'].value_counts().index)\n",
    "population"
   ]
  },
  {
   "cell_type": "code",
   "execution_count": 17,
   "metadata": {
    "colab": {},
    "colab_type": "code",
    "id": "JgSLZqbMh2xo"
   },
   "outputs": [],
   "source": [
    "data = []\n",
    "for persons in population:\n",
    "    population_data = dict(\n",
    "            lat = df.loc[df['population'] == persons,'lat'],\n",
    "            lon = df.loc[df['population'] == persons,'lng'],\n",
    "            name = persons,\n",
    "            marker = dict(size = 8, opacity = 0.5),\n",
    "            type = 'scattermapbox'\n",
    "        )\n",
    "    data.append(population_data)\n",
    "\n",
    "mapbox_access_token = 'pk.eyJ1IjoiYWt1cmdhdCIsImEiOiJjanoyc3ByZWwwMGJ2M2NzNGM1dTlocGZzIn0.Ic2lo-f1OxZ1dqBxCATgzg'\n",
    "\n",
    "layout = dict(\n",
    "    height = 800,\n",
    "    margin = dict(t=0, b=0, l=0, r=0),\n",
    "    font = dict(color='#FFFFFF', size=11),\n",
    "    paper_bgcolor = '#000000',\n",
    "    mapbox=dict(\n",
    "        accesstoken=mapbox_access_token,\n",
    "        bearing=0,\n",
    "        center=dict(\n",
    "            lat=38,\n",
    "            lon=-94\n",
    "        ),\n",
    "        pitch=0,\n",
    "        zoom=3,\n",
    "        style='light'\n",
    "    ),\n",
    ")\n",
    "\n",
    "\n",
    "\n",
    "\n",
    "layout['title'] = 'Population Density'\n"
   ]
  },
  {
   "cell_type": "code",
   "execution_count": 18,
   "metadata": {
    "colab": {},
    "colab_type": "code",
    "id": "9Pz4wkezh2xq",
    "outputId": "249db5f7-ca7f-4592-8a33-e36b3a9a58b1"
   },
   "outputs": [
    {
     "data": {
      "text/html": [
       "<iframe id=\"igraph\" scrolling=\"no\" style=\"border:none;\" seamless=\"seamless\" src=\"https://plot.ly/~akurgat/2.embed\" height=\"800px\" width=\"100%\"></iframe>"
      ],
      "text/plain": [
       "<chart_studio.tools.PlotlyDisplay object>"
      ]
     },
     "execution_count": 18,
     "metadata": {},
     "output_type": "execute_result"
    }
   ],
   "source": [
    "figure = dict(data=data, layout=layout)\n",
    "py.iplot(figure, filename=\"Kenya's Population\")"
   ]
  },
  {
   "cell_type": "code",
   "execution_count": null,
   "metadata": {},
   "outputs": [],
   "source": []
  }
 ],
 "metadata": {
  "colab": {
   "name": "Mapbox1.ipynb",
   "provenance": [],
   "version": "0.3.2"
  },
  "kernelspec": {
   "display_name": "Python 3",
   "language": "python",
   "name": "python3"
  },
  "language_info": {
   "codemirror_mode": {
    "name": "ipython",
    "version": 3
   },
   "file_extension": ".py",
   "mimetype": "text/x-python",
   "name": "python",
   "nbconvert_exporter": "python",
   "pygments_lexer": "ipython3",
   "version": "3.7.4"
  }
 },
 "nbformat": 4,
 "nbformat_minor": 1
}

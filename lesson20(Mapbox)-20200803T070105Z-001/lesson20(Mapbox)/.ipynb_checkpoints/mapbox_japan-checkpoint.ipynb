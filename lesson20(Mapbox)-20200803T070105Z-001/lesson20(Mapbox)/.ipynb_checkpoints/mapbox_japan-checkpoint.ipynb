{
 "cells": [
  {
   "cell_type": "code",
   "execution_count": 1,
   "metadata": {
    "colab": {
     "base_uri": "https://localhost:8080/",
     "height": 0
    },
    "colab_type": "code",
    "executionInfo": {
     "elapsed": 857,
     "status": "error",
     "timestamp": 1565272963199,
     "user": {
      "displayName": "Africadata school",
      "photoUrl": "",
      "userId": "04916959694654456425"
     },
     "user_tz": -180
    },
    "id": "3PxNr3Ukh2xc",
    "outputId": "58dca801-b73a-4493-9980-5bf4abb24192"
   },
   "outputs": [],
   "source": [
    "#https://www.kaggle.com/c/new-york-city-taxi-fare-prediction"
   ]
  },
  {
   "cell_type": "code",
   "execution_count": 2,
   "metadata": {
    "colab": {},
    "colab_type": "code",
    "id": "RjTCDPUkh2xX"
   },
   "outputs": [],
   "source": [
    "#import necessary libraries\n",
    "import numpy as np \n",
    "import pandas as pd\n",
    "import plotly\n",
    "import plotly.plotly as py\n",
    "import plotly.offline as offline\n",
    "import plotly.graph_objs as go"
   ]
  },
  {
   "cell_type": "code",
   "execution_count": 3,
   "metadata": {},
   "outputs": [],
   "source": [
    "plotly.tools.set_credentials_file(username='akurgat', api_key='Jud1SQj1lbS6w5pznJgt')"
   ]
  },
  {
   "cell_type": "markdown",
   "metadata": {
    "colab_type": "text",
    "id": "JNmRKKcjiQ7Q"
   },
   "source": []
  },
  {
   "cell_type": "code",
   "execution_count": 4,
   "metadata": {
    "colab": {},
    "colab_type": "code",
    "id": "vMTc9XFth2xh"
   },
   "outputs": [
    {
     "data": {
      "text/html": [
       "<div>\n",
       "<style scoped>\n",
       "    .dataframe tbody tr th:only-of-type {\n",
       "        vertical-align: middle;\n",
       "    }\n",
       "\n",
       "    .dataframe tbody tr th {\n",
       "        vertical-align: top;\n",
       "    }\n",
       "\n",
       "    .dataframe thead th {\n",
       "        text-align: right;\n",
       "    }\n",
       "</style>\n",
       "<table border=\"1\" class=\"dataframe\">\n",
       "  <thead>\n",
       "    <tr style=\"text-align: right;\">\n",
       "      <th></th>\n",
       "      <th>city</th>\n",
       "      <th>lat</th>\n",
       "      <th>lng</th>\n",
       "      <th>country</th>\n",
       "      <th>iso2</th>\n",
       "      <th>admin</th>\n",
       "      <th>capital</th>\n",
       "      <th>population</th>\n",
       "      <th>population_proper</th>\n",
       "    </tr>\n",
       "  </thead>\n",
       "  <tbody>\n",
       "    <tr>\n",
       "      <th>0</th>\n",
       "      <td>Tokyo</td>\n",
       "      <td>35.685000</td>\n",
       "      <td>139.751389</td>\n",
       "      <td>Japan</td>\n",
       "      <td>JP</td>\n",
       "      <td>Tōkyō</td>\n",
       "      <td>primary</td>\n",
       "      <td>35676000.0</td>\n",
       "      <td>8336599.0</td>\n",
       "    </tr>\n",
       "    <tr>\n",
       "      <th>1</th>\n",
       "      <td>Ōsaka</td>\n",
       "      <td>34.683333</td>\n",
       "      <td>135.516667</td>\n",
       "      <td>Japan</td>\n",
       "      <td>JP</td>\n",
       "      <td>Ōsaka</td>\n",
       "      <td>admin</td>\n",
       "      <td>11294000.0</td>\n",
       "      <td>2592413.0</td>\n",
       "    </tr>\n",
       "    <tr>\n",
       "      <th>2</th>\n",
       "      <td>Yokohama</td>\n",
       "      <td>35.433333</td>\n",
       "      <td>139.650000</td>\n",
       "      <td>Japan</td>\n",
       "      <td>JP</td>\n",
       "      <td>Kanagawa</td>\n",
       "      <td>admin</td>\n",
       "      <td>3697894.0</td>\n",
       "      <td>3697894.0</td>\n",
       "    </tr>\n",
       "    <tr>\n",
       "      <th>3</th>\n",
       "      <td>Nagoya</td>\n",
       "      <td>35.183333</td>\n",
       "      <td>136.900000</td>\n",
       "      <td>Japan</td>\n",
       "      <td>JP</td>\n",
       "      <td>Aichi</td>\n",
       "      <td>admin</td>\n",
       "      <td>3230000.0</td>\n",
       "      <td>2191279.0</td>\n",
       "    </tr>\n",
       "    <tr>\n",
       "      <th>4</th>\n",
       "      <td>Fukuoka</td>\n",
       "      <td>33.600000</td>\n",
       "      <td>130.416667</td>\n",
       "      <td>Japan</td>\n",
       "      <td>JP</td>\n",
       "      <td>Fukuoka</td>\n",
       "      <td>admin</td>\n",
       "      <td>2792000.0</td>\n",
       "      <td>1392289.0</td>\n",
       "    </tr>\n",
       "  </tbody>\n",
       "</table>\n",
       "</div>"
      ],
      "text/plain": [
       "       city        lat         lng country iso2     admin  capital  \\\n",
       "0     Tokyo  35.685000  139.751389   Japan   JP     Tōkyō  primary   \n",
       "1     Ōsaka  34.683333  135.516667   Japan   JP     Ōsaka    admin   \n",
       "2  Yokohama  35.433333  139.650000   Japan   JP  Kanagawa    admin   \n",
       "3    Nagoya  35.183333  136.900000   Japan   JP     Aichi    admin   \n",
       "4   Fukuoka  33.600000  130.416667   Japan   JP   Fukuoka    admin   \n",
       "\n",
       "   population  population_proper  \n",
       "0  35676000.0          8336599.0  \n",
       "1  11294000.0          2592413.0  \n",
       "2   3697894.0          3697894.0  \n",
       "3   3230000.0          2191279.0  \n",
       "4   2792000.0          1392289.0  "
      ]
     },
     "execution_count": 4,
     "metadata": {},
     "output_type": "execute_result"
    }
   ],
   "source": [
    "df = pd.read_excel('jp.xlsx')\n",
    "df.head()\n"
   ]
  },
  {
   "cell_type": "code",
   "execution_count": 5,
   "metadata": {},
   "outputs": [
    {
     "name": "stdout",
     "output_type": "stream",
     "text": [
      "<class 'pandas.core.frame.DataFrame'>\n",
      "RangeIndex: 77 entries, 0 to 76\n",
      "Data columns (total 9 columns):\n",
      "city                 77 non-null object\n",
      "lat                  77 non-null float64\n",
      "lng                  77 non-null float64\n",
      "country              77 non-null object\n",
      "iso2                 77 non-null object\n",
      "admin                77 non-null object\n",
      "capital              55 non-null object\n",
      "population           61 non-null float64\n",
      "population_proper    61 non-null float64\n",
      "dtypes: float64(4), object(5)\n",
      "memory usage: 5.5+ KB\n"
     ]
    }
   ],
   "source": [
    "df.info()"
   ]
  },
  {
   "cell_type": "code",
   "execution_count": 6,
   "metadata": {},
   "outputs": [
    {
     "data": {
      "text/html": [
       "<div>\n",
       "<style scoped>\n",
       "    .dataframe tbody tr th:only-of-type {\n",
       "        vertical-align: middle;\n",
       "    }\n",
       "\n",
       "    .dataframe tbody tr th {\n",
       "        vertical-align: top;\n",
       "    }\n",
       "\n",
       "    .dataframe thead th {\n",
       "        text-align: right;\n",
       "    }\n",
       "</style>\n",
       "<table border=\"1\" class=\"dataframe\">\n",
       "  <thead>\n",
       "    <tr style=\"text-align: right;\">\n",
       "      <th></th>\n",
       "      <th>lat</th>\n",
       "      <th>lng</th>\n",
       "      <th>population</th>\n",
       "      <th>population_proper</th>\n",
       "    </tr>\n",
       "  </thead>\n",
       "  <tbody>\n",
       "    <tr>\n",
       "      <th>count</th>\n",
       "      <td>77.000000</td>\n",
       "      <td>77.000000</td>\n",
       "      <td>6.100000e+01</td>\n",
       "      <td>6.100000e+01</td>\n",
       "    </tr>\n",
       "    <tr>\n",
       "      <th>mean</th>\n",
       "      <td>36.117589</td>\n",
       "      <td>136.691162</td>\n",
       "      <td>1.428345e+06</td>\n",
       "      <td>6.881218e+05</td>\n",
       "    </tr>\n",
       "    <tr>\n",
       "      <th>std</th>\n",
       "      <td>3.417925</td>\n",
       "      <td>4.107433</td>\n",
       "      <td>4.726810e+06</td>\n",
       "      <td>1.197202e+06</td>\n",
       "    </tr>\n",
       "    <tr>\n",
       "      <th>min</th>\n",
       "      <td>26.166667</td>\n",
       "      <td>127.666667</td>\n",
       "      <td>8.233500e+04</td>\n",
       "      <td>3.259800e+04</td>\n",
       "    </tr>\n",
       "    <tr>\n",
       "      <th>25%</th>\n",
       "      <td>34.232220</td>\n",
       "      <td>133.050000</td>\n",
       "      <td>2.487070e+05</td>\n",
       "      <td>2.338700e+05</td>\n",
       "    </tr>\n",
       "    <tr>\n",
       "      <th>50%</th>\n",
       "      <td>35.500000</td>\n",
       "      <td>137.016667</td>\n",
       "      <td>3.573090e+05</td>\n",
       "      <td>3.255000e+05</td>\n",
       "    </tr>\n",
       "    <tr>\n",
       "      <th>75%</th>\n",
       "      <td>37.900000</td>\n",
       "      <td>140.116667</td>\n",
       "      <td>7.015610e+05</td>\n",
       "      <td>5.793990e+05</td>\n",
       "    </tr>\n",
       "    <tr>\n",
       "      <th>max</th>\n",
       "      <td>43.803056</td>\n",
       "      <td>144.397259</td>\n",
       "      <td>3.567600e+07</td>\n",
       "      <td>8.336599e+06</td>\n",
       "    </tr>\n",
       "  </tbody>\n",
       "</table>\n",
       "</div>"
      ],
      "text/plain": [
       "             lat         lng    population  population_proper\n",
       "count  77.000000   77.000000  6.100000e+01       6.100000e+01\n",
       "mean   36.117589  136.691162  1.428345e+06       6.881218e+05\n",
       "std     3.417925    4.107433  4.726810e+06       1.197202e+06\n",
       "min    26.166667  127.666667  8.233500e+04       3.259800e+04\n",
       "25%    34.232220  133.050000  2.487070e+05       2.338700e+05\n",
       "50%    35.500000  137.016667  3.573090e+05       3.255000e+05\n",
       "75%    37.900000  140.116667  7.015610e+05       5.793990e+05\n",
       "max    43.803056  144.397259  3.567600e+07       8.336599e+06"
      ]
     },
     "execution_count": 6,
     "metadata": {},
     "output_type": "execute_result"
    }
   ],
   "source": [
    "df.describe()"
   ]
  },
  {
   "cell_type": "code",
   "execution_count": 7,
   "metadata": {
    "colab": {},
    "colab_type": "code",
    "id": "vDGYpn8Dh2xk",
    "outputId": "6002cd41-48b9-4816-dce5-04d56403319f"
   },
   "outputs": [
    {
     "data": {
      "text/plain": [
       "[977023.0,\n",
       " 500000.0,\n",
       " 443760.0,\n",
       " 294237.0,\n",
       " 3697894.0,\n",
       " 197540.0,\n",
       " 245786.0,\n",
       " 298394.0,\n",
       " 100446.0,\n",
       " 248707.0,\n",
       " 866092.0,\n",
       " 198566.0,\n",
       " 1437266.0,\n",
       " 533541.0,\n",
       " 2045000.0,\n",
       " 272209.0,\n",
       " 92465.0,\n",
       " 334223.0,\n",
       " 143792.0,\n",
       " 718232.0,\n",
       " 905238.0,\n",
       " 2792000.0,\n",
       " 155676.0,\n",
       " 440006.0,\n",
       " 295172.0,\n",
       " 320069.0,\n",
       " 324384.0,\n",
       " 356612.0,\n",
       " 594311.0,\n",
       " 412895.0,\n",
       " 536976.0,\n",
       " 435455.0,\n",
       " 2250000.0,\n",
       " 35676000.0,\n",
       " 196991.0,\n",
       " 357309.0,\n",
       " 701561.0,\n",
       " 82335.0,\n",
       " 156811.0,\n",
       " 170077.0,\n",
       " 302984.0,\n",
       " 174972.0,\n",
       " 113137.0,\n",
       " 448907.0,\n",
       " 667752.0,\n",
       " 1805000.0,\n",
       " 335570.0,\n",
       " 2544000.0,\n",
       " 332812.0,\n",
       " 555352.0,\n",
       " 11294000.0,\n",
       " 551249.0,\n",
       " 1528478.0,\n",
       " 344871.0,\n",
       " 99820.0,\n",
       " 3230000.0,\n",
       " 337931.0,\n",
       " 353892.0,\n",
       " 579399.0,\n",
       " 569797.0,\n",
       " 154098.0]"
      ]
     },
     "execution_count": 7,
     "metadata": {},
     "output_type": "execute_result"
    }
   ],
   "source": [
    "population = list(df['population'].value_counts().index)\n",
    "population"
   ]
  },
  {
   "cell_type": "code",
   "execution_count": 8,
   "metadata": {
    "colab": {},
    "colab_type": "code",
    "id": "JgSLZqbMh2xo"
   },
   "outputs": [],
   "source": [
    "data = []\n",
    "for persons in population:\n",
    "    population_data = dict(\n",
    "            lat = df.loc[df['population'] == persons,'lat'],\n",
    "            lon = df.loc[df['population'] == persons,'lng'],\n",
    "            name = persons,\n",
    "            marker = dict(size = 8, opacity = 0.5),\n",
    "            type = 'scattermapbox'\n",
    "        )\n",
    "    data.append(population_data)\n",
    "\n",
    "mapbox_access_token = 'pk.eyJ1IjoiYWt1cmdhdCIsImEiOiJjanoyc3ByZWwwMGJ2M2NzNGM1dTlocGZzIn0.Ic2lo-f1OxZ1dqBxCATgzg'\n",
    "\n",
    "layout = dict(\n",
    "    height = 800,\n",
    "    margin = dict(t=0, b=0, l=0, r=0),\n",
    "    font = dict(color='#FFFFFF', size=11),\n",
    "    paper_bgcolor = '#000000',\n",
    "    mapbox=dict(\n",
    "        accesstoken=mapbox_access_token,\n",
    "        bearing=0,\n",
    "        center=dict(\n",
    "            lat=38,\n",
    "            lon=-94\n",
    "        ),\n",
    "        pitch=0,\n",
    "        zoom=3,\n",
    "        style='light'\n",
    "    ),\n",
    ")\n",
    "\n",
    "\n",
    "\n",
    "\n",
    "layout['title'] = 'Population Density'\n"
   ]
  },
  {
   "cell_type": "code",
   "execution_count": 9,
   "metadata": {
    "colab": {},
    "colab_type": "code",
    "id": "9Pz4wkezh2xq",
    "outputId": "249db5f7-ca7f-4592-8a33-e36b3a9a58b1"
   },
   "outputs": [
    {
     "name": "stderr",
     "output_type": "stream",
     "text": [
      "c:\\program files\\python37\\lib\\site-packages\\IPython\\core\\display.py:694: UserWarning:\n",
      "\n",
      "Consider using IPython.display.IFrame instead\n",
      "\n"
     ]
    },
    {
     "data": {
      "text/html": [
       "<iframe id=\"igraph\" scrolling=\"no\" style=\"border:none;\" seamless=\"seamless\" src=\"https://plot.ly/~akurgat/19.embed\" height=\"800px\" width=\"100%\"></iframe>"
      ],
      "text/plain": [
       "<chart_studio.tools.PlotlyDisplay object>"
      ]
     },
     "execution_count": 9,
     "metadata": {},
     "output_type": "execute_result"
    }
   ],
   "source": [
    "figure = dict(data=data, layout=layout)\n",
    "py.iplot(figure, filename=\"Japan's Population\")"
   ]
  },
  {
   "cell_type": "code",
   "execution_count": null,
   "metadata": {},
   "outputs": [],
   "source": []
  }
 ],
 "metadata": {
  "colab": {
   "name": "Mapbox1.ipynb",
   "provenance": [],
   "version": "0.3.2"
  },
  "kernelspec": {
   "display_name": "Python 3",
   "language": "python",
   "name": "python3"
  },
  "language_info": {
   "codemirror_mode": {
    "name": "ipython",
    "version": 3
   },
   "file_extension": ".py",
   "mimetype": "text/x-python",
   "name": "python",
   "nbconvert_exporter": "python",
   "pygments_lexer": "ipython3",
   "version": "3.7.4"
  }
 },
 "nbformat": 4,
 "nbformat_minor": 1
}

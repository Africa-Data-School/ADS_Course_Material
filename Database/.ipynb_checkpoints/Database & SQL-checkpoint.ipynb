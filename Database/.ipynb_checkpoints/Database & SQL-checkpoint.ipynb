{
 "cells": [
  {
   "cell_type": "markdown",
   "metadata": {},
   "source": [
    "### 1) What is a Database \n",
    "\n",
    "#### A database is an organized collection of data, generally stored and accessed electronically from a computer system. \n",
    "\n",
    "#### Examples\n",
    "\n",
    "* RDBMS   Example systems: Microsoft Access and MySQL\n",
    "* Document stores/document-oriented database  Example systems: MongoDB\n",
    "* Key-value stores  Example systems: Redis   Example users: Stack Exchange\n",
    "* Search engines  Example systems: Elasticsearch  Example users: Vimeo\n",
    "* Wide column stores/extensible record stores Example systems: Cassandra  Example users: Netflix\n",
    "* Graph DBMS Example systems: Neo4j and Microsoft Azure Cosmos DB ,Example users: Ebay\n",
    "\n",
    "https://codebots.com/continuous-modernisation/types-of-databases-and-dbms-with-examples\n",
    "\n",
    " \n",
    "### 2) Two main types of modern databases\n",
    "\n",
    "\n",
    "*The two main types of modern databases to choose from are  and non-relational, also known as SQL or NoSQL \n",
    "\n",
    "#### Relational /SQL\n",
    "\n",
    "* SQL databases are known as relational databases, and have a table-based data structure, with a strict, predefined schema required.\n",
    "\n",
    "\n",
    "#### Non-relational/ NoSQL \n",
    "* NoSQL databases, or non-relational databases, can be document based, graph databases, key-value pairs, or wide-column stores. NoSQL databases don’t require any predefined schema, allowing you to work more freely with “unstructured data.”\n",
    "\n",
    "\n",
    "\n",
    "\n",
    "\n",
    "\n",
    "### 3) Database management system Software\n",
    "\n",
    "####   Database Management System (DBMS) is a software that is used to define, create and maintain a database and provides controlled access to the data.\n",
    "\n",
    "\n",
    "##### RDMS \n",
    "* Relational Database Management System (RDBMS) is an advanced version of a DBMS.\n",
    "##### RDBMS examples include\n",
    "* MySQL, \n",
    "* Microsoft SQL Server,\n",
    "* Oracle\n",
    "* PostgreSQL, "
   ]
  },
  {
   "cell_type": "markdown",
   "metadata": {},
   "source": [
    "# Installing MySQL"
   ]
  },
  {
   "cell_type": "markdown",
   "metadata": {},
   "source": [
    "Download Link: \n",
    "https://dev.mysql.com/downloads/windows/installer/8.0.html"
   ]
  },
  {
   "cell_type": "markdown",
   "metadata": {},
   "source": [
    "# Retreving Data"
   ]
  },
  {
   "cell_type": "code",
   "execution_count": null,
   "metadata": {},
   "outputs": [],
   "source": [
    "# the database \n",
    "USE jumiaa_store;  \n",
    "\n",
    "#select all columns \n",
    "SELECT *\n",
    "\n",
    "# the table \n",
    "FROM customers"
   ]
  },
  {
   "cell_type": "code",
   "execution_count": null,
   "metadata": {},
   "outputs": [],
   "source": []
  }
 ],
 "metadata": {
  "kernelspec": {
   "display_name": "Python 3",
   "language": "python",
   "name": "python3"
  },
  "language_info": {
   "codemirror_mode": {
    "name": "ipython",
    "version": 3
   },
   "file_extension": ".py",
   "mimetype": "text/x-python",
   "name": "python",
   "nbconvert_exporter": "python",
   "pygments_lexer": "ipython3",
   "version": "3.7.6"
  }
 },
 "nbformat": 4,
 "nbformat_minor": 4
}

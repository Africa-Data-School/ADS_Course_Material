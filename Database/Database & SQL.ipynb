{
 "cells": [
  {
   "cell_type": "markdown",
   "metadata": {},
   "source": [
    "### 1) What is a Database \n",
    "\n",
    "#### A database is an organized collection of data, generally stored and accessed electronically from a computer system. \n",
    "\n",
    "#### Examples\n",
    "\n",
    "* RDBMS   Example systems: Microsoft Access and MySQL\n",
    "* Document stores/document-oriented database  Example systems: MongoDB\n",
    "* Key-value stores  Example systems: Redis   Example users: Stack Exchange\n",
    "* Search engines  Example systems: Elasticsearch  Example users: Vimeo\n",
    "* Wide column stores/extensible record stores Example systems: Cassandra  Example users: Netflix\n",
    "* Graph DBMS Example systems: Neo4j and Microsoft Azure Cosmos DB ,Example users: Ebay\n",
    "\n",
    "https://codebots.com/continuous-modernisation/types-of-databases-and-dbms-with-examples\n",
    "\n",
    " \n",
    "### 2) Two main types of modern databases\n",
    "\n",
    "\n",
    "*The two main types of modern databases to choose from are  and non-relational, also known as SQL or NoSQL \n",
    "\n",
    "#### Relational /SQL\n",
    "\n",
    "* SQL databases are known as relational databases, and have a table-based data structure, with a strict, predefined schema required.\n",
    "\n",
    "\n",
    "#### Non-relational/ NoSQL \n",
    "* NoSQL databases, or non-relational databases, can be document based, graph databases, key-value pairs, or wide-column stores. NoSQL databases don’t require any predefined schema, allowing you to work more freely with “unstructured data.”\n",
    "\n",
    "\n",
    "\n",
    "\n",
    "\n",
    "\n",
    "### 3) Database management system Software\n",
    "\n",
    "####   Database Management System (DBMS) is a software that is used to define, create and maintain a database and provides controlled access to the data.\n",
    "\n",
    "\n",
    "##### RDMS \n",
    "* Relational Database Management System (RDBMS) is an advanced version of a DBMS.\n",
    "##### RDBMS examples include\n",
    "* MySQL, \n",
    "* Microsoft SQL Server,\n",
    "* Oracle\n",
    "* PostgreSQL, "
   ]
  },
  {
   "cell_type": "markdown",
   "metadata": {},
   "source": [
    "# Installing MySQL"
   ]
  },
  {
   "cell_type": "markdown",
   "metadata": {},
   "source": [
    "Download Link: \n",
    "https://dev.mysql.com/downloads/windows/installer/8.0.html\n",
    "\n",
    "\n",
    "Windows (x86, 32-bit), MSI Installer"
   ]
  },
  {
   "cell_type": "markdown",
   "metadata": {},
   "source": [
    "# Retreving Data"
   ]
  },
  {
   "cell_type": "code",
   "execution_count": null,
   "metadata": {},
   "outputs": [],
   "source": []
  },
  {
   "cell_type": "raw",
   "metadata": {},
   "source": [
    "# the database \n",
    "USE jumiaa_store;  \n",
    "\n",
    "#select all columns \n",
    "SELECT *\n",
    "\n",
    "# the table \n",
    "FROM customers"
   ]
  },
  {
   "cell_type": "markdown",
   "metadata": {},
   "source": [
    "!['sql'](sql.png)"
   ]
  },
  {
   "cell_type": "markdown",
   "metadata": {},
   "source": [
    "### WHERE"
   ]
  },
  {
   "cell_type": "raw",
   "metadata": {},
   "source": [
    "USE jumiaa_store; \n",
    "\n",
    "SELECT *\n",
    "FROM customers \n",
    "WHERE customer_id =4"
   ]
  },
  {
   "cell_type": "markdown",
   "metadata": {},
   "source": [
    "### ORDER BY"
   ]
  },
  {
   "cell_type": "raw",
   "metadata": {},
   "source": [
    "USE jumiaa_store; \n",
    "\n",
    "SELECT *\n",
    "FROM customers \n",
    "-- WHERE customer_id =4\n",
    "ORDER BY  city"
   ]
  },
  {
   "cell_type": "markdown",
   "metadata": {},
   "source": [
    "### SELECT "
   ]
  },
  {
   "cell_type": "raw",
   "metadata": {},
   "source": [
    "# SELECT ALL  \n",
    "\n",
    "SELECT *\n",
    "FROM customers "
   ]
  },
  {
   "cell_type": "raw",
   "metadata": {},
   "source": [
    "# SELECT SPECIFIC COLUMNS \n",
    "\n",
    "USE jumiaa_store; \n",
    "\n",
    "SELECT first_name, city \n",
    "FROM customers "
   ]
  },
  {
   "cell_type": "raw",
   "metadata": {},
   "source": [
    "# SELECT SPECIFIC COLUMNS ,+NEW \n",
    "USE jumiaa_store; \n",
    "\n",
    "SELECT first_name, city ,points, points+10\n",
    "FROM customers "
   ]
  },
  {
   "cell_type": "raw",
   "metadata": {},
   "source": [
    "# AS renaming \n",
    "\n",
    "USE jumiaa_store; \n",
    "\n",
    "SELECT first_name, city ,points, points+10, points * 400 AS 'Discount'\n",
    "FROM customers "
   ]
  },
  {
   "cell_type": "markdown",
   "metadata": {},
   "source": [
    "### WHERE    fillter data"
   ]
  },
  {
   "cell_type": "raw",
   "metadata": {},
   "source": [
    "# customer with  more than  1000 points \n",
    "USE jumiaa_store; \n",
    "\n",
    "SELECT *\n",
    "FROM customers \n",
    "WHERE points > 1000\n",
    "\n",
    "#types of operators \n",
    "<,<=,>,=>,!=,<>"
   ]
  },
  {
   "cell_type": "markdown",
   "metadata": {},
   "source": [
    "### AND "
   ]
  },
  {
   "cell_type": "code",
   "execution_count": null,
   "metadata": {},
   "outputs": [],
   "source": [
    "USE jumiaa_store; \n",
    "\n",
    "SELECT *\n",
    "FROM customers \n",
    "WHERE points > 1000 AND city = 'Nairobi'"
   ]
  },
  {
   "cell_type": "code",
   "execution_count": null,
   "metadata": {},
   "outputs": [],
   "source": [
    "# where total price is greater than 30\n",
    "\n",
    "USE jumiaa_store; \n",
    "\n",
    "SELECT *\n",
    "FROM order_items \n",
    "WHERE order_id > 6 AND unit_price * quantity > 30"
   ]
  },
  {
   "cell_type": "markdown",
   "metadata": {},
   "source": [
    "### OR  "
   ]
  },
  {
   "cell_type": "code",
   "execution_count": null,
   "metadata": {},
   "outputs": [],
   "source": [
    "\n",
    "USE jumiaa_store; \n",
    "\n",
    "SELECT *\n",
    "FROM customers \n",
    "WHERE points > 100 OR birth_date = '1990-01-01'"
   ]
  },
  {
   "cell_type": "markdown",
   "metadata": {},
   "source": [
    "### IN"
   ]
  },
  {
   "cell_type": "raw",
   "metadata": {},
   "source": [
    "\n",
    "USE jumiaa_store; \n",
    "\n",
    "SELECT *\n",
    "FROM customers \n",
    "WHERE city IN ('Nairobi', 'Cape' ,'Mombasa')"
   ]
  },
  {
   "cell_type": "markdown",
   "metadata": {},
   "source": [
    "### BETWEEN "
   ]
  },
  {
   "cell_type": "raw",
   "metadata": {},
   "source": [
    "USE jumiaa_store; \n",
    "\n",
    "SELECT *\n",
    "FROM customers \n",
    "WHERE points BETWEEN 900 AND 2000"
   ]
  },
  {
   "cell_type": "markdown",
   "metadata": {},
   "source": [
    "### LIKE"
   ]
  },
  {
   "cell_type": "raw",
   "metadata": {},
   "source": [
    "# where first name start with J and anything after that  # match character _j\n",
    "USE jumiaa_store; \n",
    "\n",
    "SELECT *\n",
    "FROM customers \n",
    "\n",
    "\n",
    "WHERE first_name LIKE 'J%'"
   ]
  },
  {
   "cell_type": "markdown",
   "metadata": {},
   "source": [
    "### REGEXP OPERATOR"
   ]
  },
  {
   "cell_type": "raw",
   "metadata": {},
   "source": [
    "USE jumiaa_store; \n",
    "\n",
    "SELECT *\n",
    "FROM customers \n",
    "WHERE first_name REGEXP 'John'\n",
    "\n",
    "\n"
   ]
  },
  {
   "cell_type": "raw",
   "metadata": {},
   "source": [
    "^ beginning \n",
    "$ end \n",
    "'^ John|mac|otieno' logical or\n",
    "'[gim]e'\n",
    "'[a-h]e' range "
   ]
  },
  {
   "cell_type": "markdown",
   "metadata": {},
   "source": [
    "### IS NULL"
   ]
  },
  {
   "cell_type": "raw",
   "metadata": {},
   "source": [
    "USE jumiaa_store; \n",
    "\n",
    "SELECT *\n",
    "FROM customers \n",
    "WHERE phone IS NULL"
   ]
  },
  {
   "cell_type": "markdown",
   "metadata": {},
   "source": [
    "### ORDER BY "
   ]
  },
  {
   "cell_type": "raw",
   "metadata": {},
   "source": [
    "USE jumiaa_store; \n",
    "\n",
    "SELECT *, quantity * unit_price AS total_price\n",
    "FROM order_items\n",
    "WHERE order_id=2\n",
    "ORDER BY quantity * unit_price DESC"
   ]
  },
  {
   "cell_type": "markdown",
   "metadata": {},
   "source": [
    "### LIMIT "
   ]
  },
  {
   "cell_type": "raw",
   "metadata": {},
   "source": [
    "\n",
    "USE jumiaa_store; \n",
    "\n",
    "SELECT *, quantity * unit_price AS total_price\n",
    "FROM order_items\n",
    "WHERE order_id=2\n",
    "ORDER BY quantity * unit_price DESC\n",
    "LIMIT 2"
   ]
  },
  {
   "cell_type": "markdown",
   "metadata": {},
   "source": [
    "# Retreving Data from Multiple tables "
   ]
  },
  {
   "cell_type": "markdown",
   "metadata": {},
   "source": [
    "### join 2 tables in  the same database "
   ]
  },
  {
   "cell_type": "code",
   "execution_count": null,
   "metadata": {},
   "outputs": [],
   "source": [
    "USE jumiaa_store; \n",
    "\n",
    "SELECT *\n",
    "FROM orders \n",
    "JOIN customers ON  orders.customer_id  = customers.customer_id "
   ]
  },
  {
   "cell_type": "code",
   "execution_count": null,
   "metadata": {},
   "outputs": [],
   "source": [
    "USE jumiaa_store; \n",
    "\n",
    "SELECT *\n",
    "FROM orders O\n",
    "JOIN customers C ON  O.customer_id  = C.customer_id "
   ]
  },
  {
   "cell_type": "markdown",
   "metadata": {},
   "source": [
    "### two tables in different databases "
   ]
  },
  {
   "cell_type": "raw",
   "metadata": {},
   "source": [
    "USE jumiaa_store; \n",
    "\n",
    "SELECT *\n",
    "FROM order_items oi\n",
    "JOIN jumiaa_inventory.products p\n",
    "     ON oi.product_id = p.product_id"
   ]
  },
  {
   "cell_type": "markdown",
   "metadata": {},
   "source": [
    "### Multiple table "
   ]
  },
  {
   "cell_type": "raw",
   "metadata": {},
   "source": [
    "USE jumiaa_store; \n",
    "\n",
    "SELECT *\n",
    "FROM orders o\n",
    "JOIN customers c \n",
    "     ON o.customer_id = c.customer_id\n",
    "JOIN order_statuses os \n",
    "    ON o.status  = os.order_status_id "
   ]
  },
  {
   "cell_type": "code",
   "execution_count": null,
   "metadata": {},
   "outputs": [],
   "source": []
  }
 ],
 "metadata": {
  "kernelspec": {
   "display_name": "Python 3",
   "language": "python",
   "name": "python3"
  },
  "language_info": {
   "codemirror_mode": {
    "name": "ipython",
    "version": 3
   },
   "file_extension": ".py",
   "mimetype": "text/x-python",
   "name": "python",
   "nbconvert_exporter": "python",
   "pygments_lexer": "ipython3",
   "version": "3.7.6"
  }
 },
 "nbformat": 4,
 "nbformat_minor": 4
}
